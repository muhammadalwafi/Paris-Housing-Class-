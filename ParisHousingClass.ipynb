{
 "cells": [
  {
   "cell_type": "markdown",
   "id": "aa52ac45-8343-44bc-bbe8-a87bf05ffa68",
   "metadata": {},
   "source": [
    "# PREPROCESSING DATA"
   ]
  },
  {
   "cell_type": "markdown",
   "id": "fd54a2a6-7a0b-48de-883a-5a49ddd5faec",
   "metadata": {},
   "source": [
    "## IMPORT LIBRARIES"
   ]
  },
  {
   "cell_type": "code",
   "execution_count": 786,
   "id": "e678c9a1-5ecb-4271-a303-fee4e32285d8",
   "metadata": {},
   "outputs": [],
   "source": [
    "import numpy as np\n",
    "import pandas as pd\n",
    "import matplotlib.pyplot as plt\n",
    "import seaborn as sns\n"
   ]
  },
  {
   "cell_type": "markdown",
   "id": "7960ec59-858a-4870-9b9a-da98bf6d59f4",
   "metadata": {},
   "source": [
    "## READING THE DATASET"
   ]
  },
  {
   "cell_type": "code",
   "execution_count": 787,
   "id": "2a4c74af-baeb-4bd1-a4ec-68825f11b88e",
   "metadata": {},
   "outputs": [],
   "source": [
    "df = pd.read_csv(\"ParisHousingClass.csv\")"
   ]
  },
  {
   "cell_type": "markdown",
   "id": "3c7f9323-113a-4d4f-98f9-f6bf8943cc89",
   "metadata": {},
   "source": [
    "## DATA OVERVIEW"
   ]
  },
  {
   "cell_type": "code",
   "execution_count": 788,
   "id": "a0d327e6-3e3f-4964-96b6-980456d298bb",
   "metadata": {},
   "outputs": [
    {
     "data": {
      "text/html": [
       "<div>\n",
       "<style scoped>\n",
       "    .dataframe tbody tr th:only-of-type {\n",
       "        vertical-align: middle;\n",
       "    }\n",
       "\n",
       "    .dataframe tbody tr th {\n",
       "        vertical-align: top;\n",
       "    }\n",
       "\n",
       "    .dataframe thead th {\n",
       "        text-align: right;\n",
       "    }\n",
       "</style>\n",
       "<table border=\"1\" class=\"dataframe\">\n",
       "  <thead>\n",
       "    <tr style=\"text-align: right;\">\n",
       "      <th></th>\n",
       "      <th>squareMeters</th>\n",
       "      <th>numberOfRooms</th>\n",
       "      <th>hasYard</th>\n",
       "      <th>hasPool</th>\n",
       "      <th>floors</th>\n",
       "      <th>cityCode</th>\n",
       "      <th>cityPartRange</th>\n",
       "      <th>numPrevOwners</th>\n",
       "      <th>made</th>\n",
       "      <th>isNewBuilt</th>\n",
       "      <th>hasStormProtector</th>\n",
       "      <th>basement</th>\n",
       "      <th>attic</th>\n",
       "      <th>garage</th>\n",
       "      <th>hasStorageRoom</th>\n",
       "      <th>hasGuestRoom</th>\n",
       "      <th>price</th>\n",
       "      <th>category</th>\n",
       "    </tr>\n",
       "  </thead>\n",
       "  <tbody>\n",
       "    <tr>\n",
       "      <th>0</th>\n",
       "      <td>75523</td>\n",
       "      <td>3</td>\n",
       "      <td>0</td>\n",
       "      <td>1</td>\n",
       "      <td>63</td>\n",
       "      <td>9373</td>\n",
       "      <td>3</td>\n",
       "      <td>8</td>\n",
       "      <td>2005</td>\n",
       "      <td>0</td>\n",
       "      <td>1</td>\n",
       "      <td>4313</td>\n",
       "      <td>9005</td>\n",
       "      <td>956</td>\n",
       "      <td>0</td>\n",
       "      <td>7</td>\n",
       "      <td>7559081.5</td>\n",
       "      <td>Basic</td>\n",
       "    </tr>\n",
       "    <tr>\n",
       "      <th>1</th>\n",
       "      <td>80771</td>\n",
       "      <td>39</td>\n",
       "      <td>1</td>\n",
       "      <td>1</td>\n",
       "      <td>98</td>\n",
       "      <td>39381</td>\n",
       "      <td>8</td>\n",
       "      <td>6</td>\n",
       "      <td>2015</td>\n",
       "      <td>1</td>\n",
       "      <td>0</td>\n",
       "      <td>3653</td>\n",
       "      <td>2436</td>\n",
       "      <td>128</td>\n",
       "      <td>1</td>\n",
       "      <td>2</td>\n",
       "      <td>8085989.5</td>\n",
       "      <td>Luxury</td>\n",
       "    </tr>\n",
       "    <tr>\n",
       "      <th>2</th>\n",
       "      <td>55712</td>\n",
       "      <td>58</td>\n",
       "      <td>0</td>\n",
       "      <td>1</td>\n",
       "      <td>19</td>\n",
       "      <td>34457</td>\n",
       "      <td>6</td>\n",
       "      <td>8</td>\n",
       "      <td>2021</td>\n",
       "      <td>0</td>\n",
       "      <td>0</td>\n",
       "      <td>2937</td>\n",
       "      <td>8852</td>\n",
       "      <td>135</td>\n",
       "      <td>1</td>\n",
       "      <td>9</td>\n",
       "      <td>5574642.1</td>\n",
       "      <td>Basic</td>\n",
       "    </tr>\n",
       "    <tr>\n",
       "      <th>3</th>\n",
       "      <td>32316</td>\n",
       "      <td>47</td>\n",
       "      <td>0</td>\n",
       "      <td>0</td>\n",
       "      <td>6</td>\n",
       "      <td>27939</td>\n",
       "      <td>10</td>\n",
       "      <td>4</td>\n",
       "      <td>2012</td>\n",
       "      <td>0</td>\n",
       "      <td>1</td>\n",
       "      <td>659</td>\n",
       "      <td>7141</td>\n",
       "      <td>359</td>\n",
       "      <td>0</td>\n",
       "      <td>3</td>\n",
       "      <td>3232561.2</td>\n",
       "      <td>Basic</td>\n",
       "    </tr>\n",
       "    <tr>\n",
       "      <th>4</th>\n",
       "      <td>70429</td>\n",
       "      <td>19</td>\n",
       "      <td>1</td>\n",
       "      <td>1</td>\n",
       "      <td>90</td>\n",
       "      <td>38045</td>\n",
       "      <td>3</td>\n",
       "      <td>7</td>\n",
       "      <td>1990</td>\n",
       "      <td>1</td>\n",
       "      <td>0</td>\n",
       "      <td>8435</td>\n",
       "      <td>2429</td>\n",
       "      <td>292</td>\n",
       "      <td>1</td>\n",
       "      <td>4</td>\n",
       "      <td>7055052.0</td>\n",
       "      <td>Luxury</td>\n",
       "    </tr>\n",
       "  </tbody>\n",
       "</table>\n",
       "</div>"
      ],
      "text/plain": [
       "   squareMeters  numberOfRooms  hasYard  hasPool  floors  cityCode  \\\n",
       "0         75523              3        0        1      63      9373   \n",
       "1         80771             39        1        1      98     39381   \n",
       "2         55712             58        0        1      19     34457   \n",
       "3         32316             47        0        0       6     27939   \n",
       "4         70429             19        1        1      90     38045   \n",
       "\n",
       "   cityPartRange  numPrevOwners  made  isNewBuilt  hasStormProtector  \\\n",
       "0              3              8  2005           0                  1   \n",
       "1              8              6  2015           1                  0   \n",
       "2              6              8  2021           0                  0   \n",
       "3             10              4  2012           0                  1   \n",
       "4              3              7  1990           1                  0   \n",
       "\n",
       "   basement  attic  garage  hasStorageRoom  hasGuestRoom      price category  \n",
       "0      4313   9005     956               0             7  7559081.5    Basic  \n",
       "1      3653   2436     128               1             2  8085989.5   Luxury  \n",
       "2      2937   8852     135               1             9  5574642.1    Basic  \n",
       "3       659   7141     359               0             3  3232561.2    Basic  \n",
       "4      8435   2429     292               1             4  7055052.0   Luxury  "
      ]
     },
     "execution_count": 788,
     "metadata": {},
     "output_type": "execute_result"
    }
   ],
   "source": [
    "df.head()"
   ]
  },
  {
   "cell_type": "markdown",
   "id": "62377f20-2ec0-4e08-87e6-dd20bcc07d13",
   "metadata": {},
   "source": [
    "## CHECKING THE MISSING DATA"
   ]
  },
  {
   "cell_type": "code",
   "execution_count": 789,
   "id": "da199f74-ce6f-4d47-9032-c6f6c0f4e510",
   "metadata": {},
   "outputs": [
    {
     "data": {
      "text/plain": [
       "squareMeters         0\n",
       "numberOfRooms        0\n",
       "hasYard              0\n",
       "hasPool              0\n",
       "floors               0\n",
       "cityCode             0\n",
       "cityPartRange        0\n",
       "numPrevOwners        0\n",
       "made                 0\n",
       "isNewBuilt           0\n",
       "hasStormProtector    0\n",
       "basement             0\n",
       "attic                0\n",
       "garage               0\n",
       "hasStorageRoom       0\n",
       "hasGuestRoom         0\n",
       "price                0\n",
       "category             0\n",
       "dtype: int64"
      ]
     },
     "execution_count": 789,
     "metadata": {},
     "output_type": "execute_result"
    }
   ],
   "source": [
    "#checking null num\n",
    "df.isnull().sum()"
   ]
  },
  {
   "cell_type": "code",
   "execution_count": 790,
   "id": "5b696444-a52a-45dd-b15c-0bb88673e456",
   "metadata": {},
   "outputs": [
    {
     "name": "stdout",
     "output_type": "stream",
     "text": [
      "<class 'pandas.core.frame.DataFrame'>\n",
      "RangeIndex: 10000 entries, 0 to 9999\n",
      "Data columns (total 18 columns):\n",
      " #   Column             Non-Null Count  Dtype  \n",
      "---  ------             --------------  -----  \n",
      " 0   squareMeters       10000 non-null  int64  \n",
      " 1   numberOfRooms      10000 non-null  int64  \n",
      " 2   hasYard            10000 non-null  int64  \n",
      " 3   hasPool            10000 non-null  int64  \n",
      " 4   floors             10000 non-null  int64  \n",
      " 5   cityCode           10000 non-null  int64  \n",
      " 6   cityPartRange      10000 non-null  int64  \n",
      " 7   numPrevOwners      10000 non-null  int64  \n",
      " 8   made               10000 non-null  int64  \n",
      " 9   isNewBuilt         10000 non-null  int64  \n",
      " 10  hasStormProtector  10000 non-null  int64  \n",
      " 11  basement           10000 non-null  int64  \n",
      " 12  attic              10000 non-null  int64  \n",
      " 13  garage             10000 non-null  int64  \n",
      " 14  hasStorageRoom     10000 non-null  int64  \n",
      " 15  hasGuestRoom       10000 non-null  int64  \n",
      " 16  price              10000 non-null  float64\n",
      " 17  category           10000 non-null  object \n",
      "dtypes: float64(1), int64(16), object(1)\n",
      "memory usage: 1.4+ MB\n"
     ]
    }
   ],
   "source": [
    "#information data\n",
    "df.info()"
   ]
  },
  {
   "cell_type": "markdown",
   "id": "1b7eacaa-20bd-4883-a09d-352547b2c722",
   "metadata": {},
   "source": [
    "## SPILITING DATA"
   ]
  },
  {
   "cell_type": "code",
   "execution_count": 808,
   "id": "0bac8965-f4fd-4a16-9a2c-9845048ad737",
   "metadata": {},
   "outputs": [],
   "source": [
    "# Separate features (X) and target variable (y)\n",
    "X = df.drop('category', axis = 1) # Features: all columns except 'category'\n",
    "y = df['category']                # Target: 'category' column"
   ]
  },
  {
   "cell_type": "code",
   "execution_count": 809,
   "id": "a9011dc4-f4b2-40a1-b037-7eb7dd22b500",
   "metadata": {},
   "outputs": [
    {
     "data": {
      "text/plain": [
       "0        Basic\n",
       "1       Luxury\n",
       "2        Basic\n",
       "3        Basic\n",
       "4       Luxury\n",
       "         ...  \n",
       "9995     Basic\n",
       "9996     Basic\n",
       "9997     Basic\n",
       "9998     Basic\n",
       "9999     Basic\n",
       "Name: category, Length: 10000, dtype: object"
      ]
     },
     "execution_count": 809,
     "metadata": {},
     "output_type": "execute_result"
    }
   ],
   "source": [
    "y"
   ]
  },
  {
   "cell_type": "code",
   "execution_count": 810,
   "id": "f553bf34-ca35-4308-90cf-282f7eaa090b",
   "metadata": {},
   "outputs": [],
   "source": [
    "from sklearn.model_selection import train_test_split\n",
    "\n",
    "# Split the data first (this defines 'train' and 'test')\n",
    "#train, test = train_test_split(df, test_size=0.4, random_state=42)\n",
    "X_train, X_test, y_train, y_test = train_test_split(X, y, test_size=0.2, random_state=42)"
   ]
  },
  {
   "cell_type": "code",
   "execution_count": 811,
   "id": "5268abb3-e8d3-4f41-b8f6-7bd9e8de0572",
   "metadata": {},
   "outputs": [
    {
     "name": "stdout",
     "output_type": "stream",
     "text": [
      "status_binary\n",
      "0    8735\n",
      "1    1265\n",
      "Name: count, dtype: int64\n"
     ]
    }
   ],
   "source": [
    "#transform the 'status' column to a binary column(Encoding)\n",
    "df[\"status_binary\"] = df[\"category\"].apply(lambda x: 1 if x == \"Luxury\" else 0)\n",
    "print(df[\"status_binary\"].value_counts())"
   ]
  },
  {
   "cell_type": "markdown",
   "id": "86cf32c3-642d-4f23-b1a0-5728af14045b",
   "metadata": {},
   "source": [
    "# SCALLING DATA"
   ]
  },
  {
   "cell_type": "code",
   "execution_count": 812,
   "id": "c189e97c-d2e9-4e18-a5b1-a872268280f9",
   "metadata": {},
   "outputs": [],
   "source": [
    "from sklearn.preprocessing import StandardScaler\n",
    "\n",
    "scaler = StandardScaler()\n",
    "scaler.fit(X_train)  # Fit only on training data\n",
    "\n",
    "X_train_scaled = scaler.fit_transform(X_train)\n",
    "X_test_scaled = scaler.transform(X_test)"
   ]
  },
  {
   "cell_type": "code",
   "execution_count": 813,
   "id": "47a7a184-6440-45ce-a9ce-b2617d640196",
   "metadata": {},
   "outputs": [
    {
     "name": "stdout",
     "output_type": "stream",
     "text": [
      "[[ 1.1189976   0.22279829 -1.01460667 ... -0.93962897  1.11854273\n",
      "  -0.37990581]\n",
      " [ 1.02094519  1.2987203  -1.01460667 ... -0.62348178  1.02058598\n",
      "  -0.37990581]\n",
      " [ 0.99548658  0.70869855  0.98560362 ...  0.32495979  0.99897119\n",
      "   2.63223141]\n",
      " ...\n",
      " [ 1.72058417  0.60457706  0.98560362 ... -0.30733459  1.72073412\n",
      "  -0.37990581]\n",
      " [-1.13900939 -0.15898049  0.98560362 ... -0.93962897 -1.13954331\n",
      "   2.63223141]\n",
      " [-1.60833026  1.15989165  0.98560362 ...  1.58954856 -1.60704115\n",
      "  -0.37990581]]\n"
     ]
    }
   ],
   "source": [
    "print(X_train_scaled)"
   ]
  },
  {
   "cell_type": "code",
   "execution_count": 814,
   "id": "bbeb5b7c-874c-4850-afda-2857688e4a06",
   "metadata": {
    "scrolled": true
   },
   "outputs": [
    {
     "name": "stdout",
     "output_type": "stream",
     "text": [
      "[[ 1.04973057 -1.5125598   0.98560362 ... -1.25577616  1.05066604\n",
      "  -0.37990581]\n",
      " [-0.43877509  0.98635584  0.98560362 ...  0.0088126  -0.43792707\n",
      "   2.63223141]\n",
      " [ 1.25714645 -0.50605211  0.98560362 ...  0.64110698  1.256805\n",
      "  -0.37990581]\n",
      " ...\n",
      " [-1.05513956 -0.99195237  0.98560362 ...  0.0088126  -1.05630553\n",
      "  -0.37990581]\n",
      " [-0.70684338 -0.29780914  0.98560362 ...  1.27340137 -0.70731167\n",
      "  -0.37990581]\n",
      " [ 0.72731323 -1.13078102  0.98560362 ...  0.0088126   0.72756576\n",
      "  -0.37990581]]\n"
     ]
    }
   ],
   "source": [
    "print(X_test_scaled)"
   ]
  },
  {
   "cell_type": "code",
   "execution_count": 815,
   "id": "076e6339-7891-4d81-9d07-bccda284faa8",
   "metadata": {},
   "outputs": [
    {
     "data": {
      "text/html": [
       "<div>\n",
       "<style scoped>\n",
       "    .dataframe tbody tr th:only-of-type {\n",
       "        vertical-align: middle;\n",
       "    }\n",
       "\n",
       "    .dataframe tbody tr th {\n",
       "        vertical-align: top;\n",
       "    }\n",
       "\n",
       "    .dataframe thead th {\n",
       "        text-align: right;\n",
       "    }\n",
       "</style>\n",
       "<table border=\"1\" class=\"dataframe\">\n",
       "  <thead>\n",
       "    <tr style=\"text-align: right;\">\n",
       "      <th></th>\n",
       "      <th>Feature</th>\n",
       "      <th>Score</th>\n",
       "    </tr>\n",
       "  </thead>\n",
       "  <tbody>\n",
       "    <tr>\n",
       "      <th>17</th>\n",
       "      <td>status_binary</td>\n",
       "      <td>1.145784e+17</td>\n",
       "    </tr>\n",
       "    <tr>\n",
       "      <th>3</th>\n",
       "      <td>hasPool</td>\n",
       "      <td>1.369720e+03</td>\n",
       "    </tr>\n",
       "    <tr>\n",
       "      <th>9</th>\n",
       "      <td>isNewBuilt</td>\n",
       "      <td>1.365715e+03</td>\n",
       "    </tr>\n",
       "    <tr>\n",
       "      <th>2</th>\n",
       "      <td>hasYard</td>\n",
       "      <td>1.304193e+03</td>\n",
       "    </tr>\n",
       "    <tr>\n",
       "      <th>12</th>\n",
       "      <td>attic</td>\n",
       "      <td>3.021762e+00</td>\n",
       "    </tr>\n",
       "    <tr>\n",
       "      <th>0</th>\n",
       "      <td>squareMeters</td>\n",
       "      <td>1.651245e+00</td>\n",
       "    </tr>\n",
       "    <tr>\n",
       "      <th>16</th>\n",
       "      <td>price</td>\n",
       "      <td>1.560131e+00</td>\n",
       "    </tr>\n",
       "    <tr>\n",
       "      <th>7</th>\n",
       "      <td>numPrevOwners</td>\n",
       "      <td>1.293976e+00</td>\n",
       "    </tr>\n",
       "    <tr>\n",
       "      <th>6</th>\n",
       "      <td>cityPartRange</td>\n",
       "      <td>1.027056e+00</td>\n",
       "    </tr>\n",
       "    <tr>\n",
       "      <th>8</th>\n",
       "      <td>made</td>\n",
       "      <td>6.775721e-01</td>\n",
       "    </tr>\n",
       "    <tr>\n",
       "      <th>11</th>\n",
       "      <td>basement</td>\n",
       "      <td>2.433986e-01</td>\n",
       "    </tr>\n",
       "    <tr>\n",
       "      <th>1</th>\n",
       "      <td>numberOfRooms</td>\n",
       "      <td>8.141507e-02</td>\n",
       "    </tr>\n",
       "    <tr>\n",
       "      <th>14</th>\n",
       "      <td>hasStorageRoom</td>\n",
       "      <td>5.963479e-02</td>\n",
       "    </tr>\n",
       "    <tr>\n",
       "      <th>4</th>\n",
       "      <td>floors</td>\n",
       "      <td>3.710275e-02</td>\n",
       "    </tr>\n",
       "    <tr>\n",
       "      <th>13</th>\n",
       "      <td>garage</td>\n",
       "      <td>1.856746e-02</td>\n",
       "    </tr>\n",
       "    <tr>\n",
       "      <th>5</th>\n",
       "      <td>cityCode</td>\n",
       "      <td>7.813579e-03</td>\n",
       "    </tr>\n",
       "    <tr>\n",
       "      <th>10</th>\n",
       "      <td>hasStormProtector</td>\n",
       "      <td>7.163249e-03</td>\n",
       "    </tr>\n",
       "    <tr>\n",
       "      <th>15</th>\n",
       "      <td>hasGuestRoom</td>\n",
       "      <td>3.910355e-03</td>\n",
       "    </tr>\n",
       "  </tbody>\n",
       "</table>\n",
       "</div>"
      ],
      "text/plain": [
       "              Feature         Score\n",
       "17      status_binary  1.145784e+17\n",
       "3             hasPool  1.369720e+03\n",
       "9          isNewBuilt  1.365715e+03\n",
       "2             hasYard  1.304193e+03\n",
       "12              attic  3.021762e+00\n",
       "0        squareMeters  1.651245e+00\n",
       "16              price  1.560131e+00\n",
       "7       numPrevOwners  1.293976e+00\n",
       "6       cityPartRange  1.027056e+00\n",
       "8                made  6.775721e-01\n",
       "11           basement  2.433986e-01\n",
       "1       numberOfRooms  8.141507e-02\n",
       "14     hasStorageRoom  5.963479e-02\n",
       "4              floors  3.710275e-02\n",
       "13             garage  1.856746e-02\n",
       "5            cityCode  7.813579e-03\n",
       "10  hasStormProtector  7.163249e-03\n",
       "15       hasGuestRoom  3.910355e-03"
      ]
     },
     "execution_count": 815,
     "metadata": {},
     "output_type": "execute_result"
    }
   ],
   "source": [
    "from sklearn.feature_selection import SelectKBest, f_classif\n",
    "\n",
    "selector = SelectKBest(score_func=f_classif, k='all')  # You can use k=2 or 3 to limit features\n",
    "X_new = selector.fit_transform(X_train_scaled, y_train)\n",
    "\n",
    "# To see scores:\n",
    "feature_scores = pd.DataFrame({'Feature': X.columns, 'Score': selector.scores_})\n",
    "feature_scores.sort_values(by='Score', ascending=False)"
   ]
  },
  {
   "cell_type": "markdown",
   "id": "49db82a5-d468-44f8-8b15-1b1bdbb526a9",
   "metadata": {},
   "source": [
    "## BALANCING DATA"
   ]
  },
  {
   "cell_type": "code",
   "execution_count": 816,
   "id": "de194cc3-df52-4133-a9c7-1d4d574999df",
   "metadata": {},
   "outputs": [],
   "source": [
    "from imblearn.over_sampling import SMOTE  # Import SMOTE for balancing the dataset\n",
    "\n",
    "# Initialize SMOTE with a fixed random state for reproducibility\n",
    "smote = SMOTE(random_state=42)\n",
    "\n",
    "# Apply SMOTE to generate synthetic samples for the minority class\n",
    "X_resampled, y_resampled = smote.fit_resample(X, y)\n"
   ]
  },
  {
   "cell_type": "code",
   "execution_count": 817,
   "id": "d84b0c50-8eee-4722-bef3-10866f4be00c",
   "metadata": {},
   "outputs": [
    {
     "data": {
      "image/png": "[encoded data removed]",
      "text/plain": [
       "<Figure size 640x480 with 1 Axes>"
      ]
     },
     "metadata": {},
     "output_type": "display_data"
    }
   ],
   "source": [
    "import seaborn as sns\n",
    "import matplotlib.pyplot as plt\n",
    "\n",
    "# Create a bar plot showing the count of each class in the 'category' column\n",
    "sns.countplot(x='category', data=df)\n",
    "\n",
    "# Set the title of the plot\n",
    "plt.title('Class Distribution')\n",
    "\n",
    "# Replace x-axis ticks with meaningful labels for each class\n",
    "plt.xticks(ticks=[0, 1], labels=['Basic (0)', 'Luxury (1)'])\n",
    "\n",
    "# Label the y-axis as 'Count' to show number of samples per class\n",
    "plt.ylabel('Count')\n",
    "\n",
    "# Display the plot\n",
    "plt.show()\n"
   ]
  },
  {
   "cell_type": "code",
   "execution_count": 818,
   "id": "f33a1d98-cfa9-4836-9fa5-4db619ce54e4",
   "metadata": {},
   "outputs": [
    {
     "name": "stdout",
     "output_type": "stream",
     "text": [
      "Counter({'Basic': 8735, 'Luxury': 8735})\n"
     ]
    }
   ],
   "source": [
    "# After SMOTE\n",
    "from collections import Counter\n",
    "\n",
    "print(Counter(y_resampled))\n"
   ]
  },
  {
   "cell_type": "markdown",
   "id": "d7fcdd30-de06-479d-b949-b457e17ed873",
   "metadata": {},
   "source": [
    "# MODELING DATA"
   ]
  },
  {
   "cell_type": "markdown",
   "id": "a56e6ee4-9237-4b6f-86b3-c9673e9c24ff",
   "metadata": {},
   "source": [
    "## KKN MODELING"
   ]
  },
  {
   "cell_type": "code",
   "execution_count": 821,
   "id": "23821a0f-b6f1-4a72-8933-705f9eb27ccd",
   "metadata": {},
   "outputs": [
    {
     "name": "stdout",
     "output_type": "stream",
     "text": [
      "KNN Accuracy with k=5: 1.000\n"
     ]
    }
   ],
   "source": [
    "from sklearn.neighbors import KNeighborsClassifier\n",
    "from sklearn import metrics\n",
    "\n",
    "# Initialize the KNN model with k=5\n",
    "knn = KNeighborsClassifier(n_neighbors=5)\n",
    "\n",
    "# Train the model\n",
    "knn.fit(X_train_scaled, y_train)\n",
    "\n",
    "# Predict on the test data\n",
    "y_pred = knn.predict(X_test_scaled)\n",
    "\n",
    "# Evaluate and print accuracy\n",
    "score = metrics.accuracy_score(y_test, y_pred)\n",
    "print(f\"KNN Accuracy with k=5: {score:.3f}\")\n"
   ]
  },
  {
   "cell_type": "code",
   "execution_count": 822,
   "id": "0cef2a82-3d5d-4223-8fff-77b148edc61f",
   "metadata": {},
   "outputs": [
    {
     "name": "stdout",
     "output_type": "stream",
     "text": [
      "[[1744    0]\n",
      " [   0  256]]\n"
     ]
    }
   ],
   "source": [
    "#\n",
    "from sklearn.metrics import classification_report , confusion_matrix\n",
    "print( confusion_matrix (y_test , y_pred))"
   ]
  },
  {
   "cell_type": "code",
   "execution_count": 823,
   "id": "1776f3d4-e63d-47d4-940b-3094378d586f",
   "metadata": {},
   "outputs": [
    {
     "name": "stdout",
     "output_type": "stream",
     "text": [
      "              precision    recall  f1-score   support\n",
      "\n",
      "       Basic       1.00      1.00      1.00      1744\n",
      "      Luxury       1.00      1.00      1.00       256\n",
      "\n",
      "    accuracy                           1.00      2000\n",
      "   macro avg       1.00      1.00      1.00      2000\n",
      "weighted avg       1.00      1.00      1.00      2000\n",
      "\n"
     ]
    }
   ],
   "source": [
    "#FINAL MODEL\n",
    "print( classification_report(y_test , y_pred)) "
   ]
  },
  {
   "cell_type": "code",
   "execution_count": 824,
   "id": "eca33c62-1d7c-4bf7-81ae-bc786aa7de7a",
   "metadata": {},
   "outputs": [
    {
     "data": {
      "image/png": "[encoded data removed]",
      "text/plain": [
       "<Figure size 640x480 with 2 Axes>"
      ]
     },
     "metadata": {},
     "output_type": "display_data"
    }
   ],
   "source": [
    "from sklearn.metrics import ConfusionMatrixDisplay\n",
    "import matplotlib.pyplot as plt\n",
    "\n",
    "ConfusionMatrixDisplay.from_estimator(knn, X_test_scaled, y_test)\n",
    "plt.title(\"KNN Confusion Matrix\")\n",
    "plt.show()"
   ]
  },
  {
   "cell_type": "code",
   "execution_count": 825,
   "id": "6045f942-fc09-457b-b7cb-166267c87706",
   "metadata": {},
   "outputs": [
    {
     "name": "stdout",
     "output_type": "stream",
     "text": [
      "The optimal number of neighbors is 18\n",
      "The optimal score is 0.87\n"
     ]
    },
    {
     "data": {
      "image/png": "[encoded data removed]",
      "text/plain": [
       "<Figure size 1000x400 with 1 Axes>"
      ]
     },
     "metadata": {},
     "output_type": "display_data"
    }
   ],
   "source": [
    "import matplotlib.pyplot as plt # library for plotting\n",
    "import warnings # to hide unnecesary warning\n",
    "warnings.filterwarnings('ignore')\n",
    "# line required for inline charts/plots\n",
    "%matplotlib inline\n",
    "\n",
    "# empty variable for storing the KNN metrics\n",
    "scores=[]\n",
    "\n",
    "# We try different values of k for the KNN (from k=1 up to k=20)\n",
    "lrange=list(range(1,20))\n",
    "\n",
    "# loop the KNN process\n",
    "for k in lrange:\n",
    "    # input the k value and 'distance' measure\n",
    "    knn=KNeighborsClassifier(n_neighbors=k, weights='distance', algorithm='auto')\n",
    "    \n",
    "    # input the train data to train KNN\n",
    "    knn.fit(X_train,y_train)\n",
    "    \n",
    "    # see KNN prediction by inputting the test data\n",
    "    y_pred=knn.predict(X_test)\n",
    "    \n",
    "    # append the performance metric (accuracy)\n",
    "    scores.append(metrics.accuracy_score(y_test,y_pred))\n",
    "    optimal_k = lrange[scores.index(max(scores))]\n",
    "\n",
    "print(\"The optimal number of neighbors is %d\" % optimal_k)\n",
    "print(\"The optimal score is %.2f\" % max(scores))\n",
    "plt.figure(2,figsize=(10,4))\n",
    "\n",
    "# plot the results\n",
    "plt.plot(lrange, scores,ls='dashed')\n",
    "plt.xlabel('Value of k for KNN')\n",
    "plt.ylabel('Accuracy Score')\n",
    "plt.title('Accuracy Scores for Values of k of k-Nearest-Neighbors')\n",
    "plt.show()"
   ]
  },
  {
   "cell_type": "code",
   "execution_count": 826,
   "id": "265349be-a591-47b1-9a58-54740e895d25",
   "metadata": {},
   "outputs": [
    {
     "name": "stdout",
     "output_type": "stream",
     "text": [
      "              precision    recall  f1-score   support\n",
      "\n",
      "       Basic       0.87      1.00      0.93      1744\n",
      "      Luxury       0.00      0.00      0.00       256\n",
      "\n",
      "    accuracy                           0.87      2000\n",
      "   macro avg       0.44      0.50      0.47      2000\n",
      "weighted avg       0.76      0.87      0.81      2000\n",
      "\n"
     ]
    }
   ],
   "source": [
    "#CLASSIFICATION REPORT\n",
    "print(classification_report(y_test, y_pred))"
   ]
  },
  {
   "cell_type": "markdown",
   "id": "7636f1bc-bfd7-4abb-8242-1336218f4df3",
   "metadata": {},
   "source": [
    "# DECISION TREE MODELING"
   ]
  },
  {
   "cell_type": "code",
   "execution_count": 827,
   "id": "edff9ce4-7848-4b90-b3ba-a2de37d8f487",
   "metadata": {},
   "outputs": [
    {
     "name": "stdout",
     "output_type": "stream",
     "text": [
      "              precision    recall  f1-score   support\n",
      "\n",
      "       Basic       0.87      1.00      0.93      1744\n",
      "      Luxury       0.00      0.00      0.00       256\n",
      "\n",
      "    accuracy                           0.87      2000\n",
      "   macro avg       0.44      0.50      0.47      2000\n",
      "weighted avg       0.76      0.87      0.81      2000\n",
      "\n"
     ]
    },
    {
     "data": {
      "image/png": "[encoded data removed]",
      "text/plain": [
       "<Figure size 2000x1000 with 1 Axes>"
      ]
     },
     "metadata": {},
     "output_type": "display_data"
    }
   ],
   "source": [
    "#POLITING THE DECISION TREE\n",
    "from sklearn.tree import plot_tree\n",
    "from sklearn.tree import DecisionTreeClassifier\n",
    "\n",
    "# Example: training the decision tree (skip if already done)\n",
    "dtree = DecisionTreeClassifier()\n",
    "dtree.fit(X_train, y_train)\n",
    "\n",
    "# Get feature and class names\n",
    "fn = X_train.columns.tolist()  # feature names from your DataFrame\n",
    "cn = dtree.classes_.astype(str).tolist()  # class names from your model\n",
    "\n",
    "# Plot the tree\n",
    "fig, axes = plt.subplots(nrows=1, ncols=1, figsize=(20, 10), dpi=100)\n",
    "plot_tree(dtree, \n",
    "          filled=True, \n",
    "          feature_names=fn, \n",
    "          class_names=cn, \n",
    "          rounded=True,\n",
    "          fontsize=10)\n",
    "\n",
    "plt.title(\"Decision Tree \")\n",
    "plt.tight_layout()\n",
    "fig.savefig('decision_tree.png')\n",
    "plt.show(print(classification_report(y_test, y_pred)))"
   ]
  },
  {
   "cell_type": "code",
   "execution_count": 807,
   "id": "3e9e7326-fe85-4f61-8364-42650ed65532",
   "metadata": {
    "scrolled": true
   },
   "outputs": [
    {
     "name": "stdout",
     "output_type": "stream",
     "text": [
      "              precision    recall  f1-score   support\n",
      "\n",
      "       Basic       0.87      1.00      0.93      1744\n",
      "      Luxury       0.00      0.00      0.00       256\n",
      "\n",
      "    accuracy                           0.87      2000\n",
      "   macro avg       0.44      0.50      0.47      2000\n",
      "weighted avg       0.76      0.87      0.81      2000\n",
      "\n"
     ]
    }
   ],
   "source": [
    "#CLASSIFICATION REPORT\n",
    "print(classification_report(y_test, y_pred))"
   ]
  },
  {
   "cell_type": "markdown",
   "id": "c78a4bdc-42a8-4804-b699-b2d4538385af",
   "metadata": {},
   "source": [
    "# THANK YOU"
   ]
  },
  {
   "cell_type": "code",
   "execution_count": null,
   "id": "3b6f3b79-5f98-41ab-a0e1-c7d639fe6edc",
   "metadata": {},
   "outputs": [],
   "source": []
  },
  {
   "cell_type": "code",
   "execution_count": null,
   "id": "6b423657-73c8-499c-b695-495dfe027561",
   "metadata": {},
   "outputs": [],
   "source": []
  },
  {
   "cell_type": "code",
   "execution_count": null,
   "id": "31de1f3b-eeb8-4543-b0cf-1a869683dec3",
   "metadata": {},
   "outputs": [],
   "source": []
  },
  {
   "cell_type": "code",
   "execution_count": null,
   "id": "89804373-3777-4fe1-8936-d0d3e28b52c5",
   "metadata": {},
   "outputs": [],
   "source": []
  },
  {
   "cell_type": "code",
   "execution_count": null,
   "id": "33a4436d-27b9-4638-b905-0882264535aa",
   "metadata": {},
   "outputs": [],
   "source": []
  }
 ],
 "metadata": {
  "kernelspec": {
   "display_name": "Python 3 (ipykernel)",
   "language": "python",
   "name": "python3"
  },
  "language_info": {
   "codemirror_mode": {
    "name": "ipython",
    "version": 3
   },
   "file_extension": ".py",
   "mimetype": "text/x-python",
   "name": "python",
   "nbconvert_exporter": "python",
   "pygments_lexer": "ipython3",
   "version": "3.11.7"
  }
 },
 "nbformat": 4,
 "nbformat_minor": 5
}

